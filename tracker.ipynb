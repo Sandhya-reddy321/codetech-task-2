{
 "cells": [
  {
   "cell_type": "code",
   "execution_count": 1,
   "id": "30634145-8f54-4be2-b40c-32e82e953cbd",
   "metadata": {},
   "outputs": [
    {
     "name": "stdout",
     "output_type": "stream",
     "text": [
      "\n",
      "Student Grade and Academic Performance Tracking System\n",
      "1. Student Login\n",
      "2. Teacher Login\n",
      "3. Exit\n"
     ]
    },
    {
     "name": "stdin",
     "output_type": "stream",
     "text": [
      "Enter your choice:  2\n",
      "Enter username:  t\n",
      "Enter password:  123\n"
     ]
    },
    {
     "name": "stdout",
     "output_type": "stream",
     "text": [
      "Welcome, Teacher!\n",
      "\n",
      "Teacher Menu\n",
      "1. Add Student\n",
      "2. Add Grade\n",
      "3. Update Grade\n",
      "4. Delete Grade\n",
      "5. Mark Attendance\n",
      "6. Add Portfolio Entry\n",
      "7. List All Students\n",
      "8. Get Student Information\n",
      "9. Exit\n"
     ]
    },
    {
     "name": "stdin",
     "output_type": "stream",
     "text": [
      "Enter your choice:  1\n",
      "Enter student name:  m\n",
      "Enter student ID:  1\n",
      "Enter student username:  1\n",
      "Enter student password:  123\n"
     ]
    },
    {
     "name": "stdout",
     "output_type": "stream",
     "text": [
      "Student added successfully.\n",
      "\n",
      "Teacher Menu\n",
      "1. Add Student\n",
      "2. Add Grade\n",
      "3. Update Grade\n",
      "4. Delete Grade\n",
      "5. Mark Attendance\n",
      "6. Add Portfolio Entry\n",
      "7. List All Students\n",
      "8. Get Student Information\n",
      "9. Exit\n"
     ]
    },
    {
     "name": "stdin",
     "output_type": "stream",
     "text": [
      "Enter your choice:  7\n"
     ]
    },
    {
     "name": "stdout",
     "output_type": "stream",
     "text": [
      "List of Students:\n",
      "ID: 1, Name: m\n",
      "\n",
      "Teacher Menu\n",
      "1. Add Student\n",
      "2. Add Grade\n",
      "3. Update Grade\n",
      "4. Delete Grade\n",
      "5. Mark Attendance\n",
      "6. Add Portfolio Entry\n",
      "7. List All Students\n",
      "8. Get Student Information\n",
      "9. Exit\n"
     ]
    },
    {
     "name": "stdin",
     "output_type": "stream",
     "text": [
      "Enter your choice:  9\n"
     ]
    },
    {
     "name": "stdout",
     "output_type": "stream",
     "text": [
      "\n",
      "Student Grade and Academic Performance Tracking System\n",
      "1. Student Login\n",
      "2. Teacher Login\n",
      "3. Exit\n"
     ]
    },
    {
     "name": "stdin",
     "output_type": "stream",
     "text": [
      "Enter your choice:  1\n",
      "Enter username:  1\n",
      "Enter password:  123\n"
     ]
    },
    {
     "name": "stdout",
     "output_type": "stream",
     "text": [
      "Welcome, Student!\n",
      "\n",
      "Student Menu\n",
      "1. View Grades\n",
      "2. View Attendance\n",
      "3. View Portfolio\n",
      "4. Exit\n"
     ]
    },
    {
     "name": "stdin",
     "output_type": "stream",
     "text": [
      "Enter your choice:  1\n"
     ]
    },
    {
     "name": "stdout",
     "output_type": "stream",
     "text": [
      "Grades:\n",
      "English: None\n",
      "Music: None\n",
      "History: None\n",
      "Science: None\n",
      "Biology: None\n",
      "\n",
      "Student Menu\n",
      "1. View Grades\n",
      "2. View Attendance\n",
      "3. View Portfolio\n",
      "4. Exit\n"
     ]
    },
    {
     "name": "stdin",
     "output_type": "stream",
     "text": [
      "Enter your choice:  2\n"
     ]
    },
    {
     "name": "stdout",
     "output_type": "stream",
     "text": [
      "Attendance:\n",
      "\n",
      "Student Menu\n",
      "1. View Grades\n",
      "2. View Attendance\n",
      "3. View Portfolio\n",
      "4. Exit\n"
     ]
    },
    {
     "name": "stdin",
     "output_type": "stream",
     "text": [
      "Enter your choice:  3\n"
     ]
    },
    {
     "name": "stdout",
     "output_type": "stream",
     "text": [
      "Portfolio Entries:\n",
      "\n",
      "Student Menu\n",
      "1. View Grades\n",
      "2. View Attendance\n",
      "3. View Portfolio\n",
      "4. Exit\n"
     ]
    },
    {
     "name": "stdin",
     "output_type": "stream",
     "text": [
      "Enter your choice:  4\n"
     ]
    },
    {
     "name": "stdout",
     "output_type": "stream",
     "text": [
      "\n",
      "Student Grade and Academic Performance Tracking System\n",
      "1. Student Login\n",
      "2. Teacher Login\n",
      "3. Exit\n"
     ]
    },
    {
     "name": "stdin",
     "output_type": "stream",
     "text": [
      "Enter your choice:  2\n",
      "Enter username:  t\n",
      "Enter password:  123\n"
     ]
    },
    {
     "name": "stdout",
     "output_type": "stream",
     "text": [
      "Welcome, Teacher!\n",
      "\n",
      "Teacher Menu\n",
      "1. Add Student\n",
      "2. Add Grade\n",
      "3. Update Grade\n",
      "4. Delete Grade\n",
      "5. Mark Attendance\n",
      "6. Add Portfolio Entry\n",
      "7. List All Students\n",
      "8. Get Student Information\n",
      "9. Exit\n"
     ]
    },
    {
     "name": "stdin",
     "output_type": "stream",
     "text": [
      "Enter your choice:  2\n",
      "Enter student ID:  1\n",
      "Enter subject:  English\n",
      "Enter grade:  90\n"
     ]
    },
    {
     "name": "stdout",
     "output_type": "stream",
     "text": [
      "Grade added successfully.\n",
      "\n",
      "Teacher Menu\n",
      "1. Add Student\n",
      "2. Add Grade\n",
      "3. Update Grade\n",
      "4. Delete Grade\n",
      "5. Mark Attendance\n",
      "6. Add Portfolio Entry\n",
      "7. List All Students\n",
      "8. Get Student Information\n",
      "9. Exit\n"
     ]
    },
    {
     "name": "stdin",
     "output_type": "stream",
     "text": [
      "Enter your choice:  6\n",
      "Enter student ID:  1\n",
      "Enter entry type (Essay, Project, Assignment):  Essay\n",
      "Enter portfolio entry:  1\n"
     ]
    },
    {
     "name": "stdout",
     "output_type": "stream",
     "text": [
      "Portfolio entry added successfully.\n",
      "\n",
      "Teacher Menu\n",
      "1. Add Student\n",
      "2. Add Grade\n",
      "3. Update Grade\n",
      "4. Delete Grade\n",
      "5. Mark Attendance\n",
      "6. Add Portfolio Entry\n",
      "7. List All Students\n",
      "8. Get Student Information\n",
      "9. Exit\n"
     ]
    },
    {
     "name": "stdin",
     "output_type": "stream",
     "text": [
      "Enter your choice:  2\n",
      "Enter student ID:  1\n",
      "Enter subject:  Art\n",
      "Enter grade:  70\n"
     ]
    },
    {
     "name": "stdout",
     "output_type": "stream",
     "text": [
      "Grade added successfully.\n",
      "\n",
      "Teacher Menu\n",
      "1. Add Student\n",
      "2. Add Grade\n",
      "3. Update Grade\n",
      "4. Delete Grade\n",
      "5. Mark Attendance\n",
      "6. Add Portfolio Entry\n",
      "7. List All Students\n",
      "8. Get Student Information\n",
      "9. Exit\n"
     ]
    },
    {
     "name": "stdin",
     "output_type": "stream",
     "text": [
      "Enter your choice:  8\n",
      "Enter student ID:  2\n"
     ]
    },
    {
     "name": "stdout",
     "output_type": "stream",
     "text": [
      "Student not found.\n",
      "\n",
      "Teacher Menu\n",
      "1. Add Student\n",
      "2. Add Grade\n",
      "3. Update Grade\n",
      "4. Delete Grade\n",
      "5. Mark Attendance\n",
      "6. Add Portfolio Entry\n",
      "7. List All Students\n",
      "8. Get Student Information\n",
      "9. Exit\n"
     ]
    },
    {
     "name": "stdin",
     "output_type": "stream",
     "text": [
      "Enter your choice:  8\n",
      "Enter student ID:  1\n"
     ]
    },
    {
     "name": "stdout",
     "output_type": "stream",
     "text": [
      "Student Information:\n",
      "Name: m\n",
      "ID: 1\n",
      "Grades:\n",
      "English: 90.0\n",
      "Music: None\n",
      "History: None\n",
      "Science: None\n",
      "Biology: None\n",
      "Art: 70.0\n",
      "Attendance:\n",
      "Portfolio Entries:\n",
      "Essay: 1\n",
      "\n",
      "Teacher Menu\n",
      "1. Add Student\n",
      "2. Add Grade\n",
      "3. Update Grade\n",
      "4. Delete Grade\n",
      "5. Mark Attendance\n",
      "6. Add Portfolio Entry\n",
      "7. List All Students\n",
      "8. Get Student Information\n",
      "9. Exit\n"
     ]
    },
    {
     "name": "stdin",
     "output_type": "stream",
     "text": [
      "Enter your choice:  9\n"
     ]
    },
    {
     "name": "stdout",
     "output_type": "stream",
     "text": [
      "\n",
      "Student Grade and Academic Performance Tracking System\n",
      "1. Student Login\n",
      "2. Teacher Login\n",
      "3. Exit\n"
     ]
    },
    {
     "name": "stdin",
     "output_type": "stream",
     "text": [
      "Enter your choice:  3\n"
     ]
    },
    {
     "name": "stdout",
     "output_type": "stream",
     "text": [
      "Exiting...\n"
     ]
    }
   ],
   "source": [
    "class User:\n",
    "    def __init__(self, username, password):\n",
    "        self.username = username\n",
    "        self.password = password\n",
    "\n",
    "\n",
    "class Student(User):\n",
    "    def __init__(self, username, password, name, student_id):\n",
    "        super().__init__(username, password)\n",
    "        self.name = name\n",
    "        self.student_id = student_id\n",
    "        self.grades = {'English': None, 'Music': None, 'History': None, 'Science': None, 'Biology': None}\n",
    "        self.attendance = {}\n",
    "        self.portfolio = []\n",
    "\n",
    "    def view_grades(self):\n",
    "        print(\"Grades:\")\n",
    "        for subject, grade in self.grades.items():\n",
    "            print(f\"{subject}: {grade}\")\n",
    "\n",
    "    def view_attendance(self):\n",
    "        print(\"Attendance:\")\n",
    "        for date, status in self.attendance.items():\n",
    "            print(f\"{date}: {status}\")\n",
    "\n",
    "    def view_portfolio(self):\n",
    "        print(\"Portfolio Entries:\")\n",
    "        for entry in self.portfolio:\n",
    "            print(entry)\n",
    "\n",
    "\n",
    "class Teacher(User):\n",
    "    def __init__(self, username, password):\n",
    "        super().__init__(username, password)\n",
    "\n",
    "    def add_student(self, users, name, student_id, student_username, student_password):\n",
    "        student = Student(student_username, student_password, name, student_id)\n",
    "        users.append(student)\n",
    "        print(\"Student added successfully.\")\n",
    "\n",
    "    def add_grade(self, users, student_id, subject, grade):\n",
    "        for user in users:\n",
    "            if isinstance(user, Student) and user.student_id == student_id:\n",
    "                user.grades[subject] = grade\n",
    "                print(\"Grade added successfully.\")\n",
    "                return\n",
    "        print(\"Student not found.\")\n",
    "\n",
    "    def update_grade(self, users, student_id, subject, new_grade):\n",
    "        for user in users:\n",
    "            if isinstance(user, Student) and user.student_id == student_id:\n",
    "                if subject in user.grades:\n",
    "                    user.grades[subject] = new_grade\n",
    "                    print(\"Grade updated successfully.\")\n",
    "                    return\n",
    "                else:\n",
    "                    print(\"Subject not found.\")\n",
    "                    return\n",
    "        print(\"Student not found.\")\n",
    "\n",
    "    def delete_grade(self, users, student_id, subject):\n",
    "        for user in users:\n",
    "            if isinstance(user, Student) and user.student_id == student_id:\n",
    "                if subject in user.grades:\n",
    "                    user.grades[subject] = None\n",
    "                    print(\"Grade deleted successfully.\")\n",
    "                    return\n",
    "                else:\n",
    "                    print(\"Subject not found.\")\n",
    "                    return\n",
    "        print(\"Student not found.\")\n",
    "\n",
    "    def mark_attendance(self, users, student_id, date, status):\n",
    "        for user in users:\n",
    "            if isinstance(user, Student) and user.student_id == student_id:\n",
    "                user.attendance[date] = status\n",
    "                print(\"Attendance marked successfully.\")\n",
    "                return\n",
    "        print(\"Student not found.\")\n",
    "\n",
    "    def add_portfolio_entry(self, users, student_id, entry_type, entry):\n",
    "        for user in users:\n",
    "            if isinstance(user, Student) and user.student_id == student_id:\n",
    "                user.portfolio.append((entry_type, entry))\n",
    "                print(\"Portfolio entry added successfully.\")\n",
    "                return\n",
    "        print(\"Student not found.\")\n",
    "\n",
    "    def list_all_students(self, users):\n",
    "        print(\"List of Students:\")\n",
    "        for user in users:\n",
    "            if isinstance(user, Student):\n",
    "                print(f\"ID: {user.student_id}, Name: {user.name}\")\n",
    "\n",
    "    def get_student_information(self, users, student_id):\n",
    "        for user in users:\n",
    "            if isinstance(user, Student) and user.student_id == student_id:\n",
    "                print(\"Student Information:\")\n",
    "                print(f\"Name: {user.name}\")\n",
    "                print(f\"ID: {user.student_id}\")\n",
    "                print(\"Grades:\")\n",
    "                for subject, grade in user.grades.items():\n",
    "                    print(f\"{subject}: {grade}\")\n",
    "                print(\"Attendance:\")\n",
    "                for date, status in user.attendance.items():\n",
    "                    print(f\"{date}: {status}\")\n",
    "                print(\"Portfolio Entries:\")\n",
    "                for entry_type, entry in user.portfolio:\n",
    "                    print(f\"{entry_type}: {entry}\")\n",
    "                return\n",
    "        print(\"Student not found.\")\n",
    "\n",
    "\n",
    "# Authentication function\n",
    "def authenticate(username, password, users):\n",
    "    for user in users:\n",
    "        if user.username == username and user.password == password:\n",
    "            return user\n",
    "    return None\n",
    "\n",
    "\n",
    "# Main function\n",
    "def main():\n",
    "    users = [Teacher(\"t\", \"123\")]\n",
    "\n",
    "    while True:\n",
    "        print(\"\\nStudent Grade and Academic Performance Tracking System\")\n",
    "        print(\"1. Student Login\")\n",
    "        print(\"2. Teacher Login\")\n",
    "        print(\"3. Exit\")\n",
    "\n",
    "        choice = input(\"Enter your choice: \")\n",
    "\n",
    "        if choice == \"1\":\n",
    "            username = input(\"Enter username: \")\n",
    "            password = input(\"Enter password: \")\n",
    "            user = authenticate(username, password, users)\n",
    "            if isinstance(user, Student):\n",
    "                print(\"Welcome, Student!\")\n",
    "                while True:\n",
    "                    print(\"\\nStudent Menu\")\n",
    "                    print(\"1. View Grades\")\n",
    "                    print(\"2. View Attendance\")\n",
    "                    print(\"3. View Portfolio\")\n",
    "                    print(\"4. Exit\")\n",
    "                    student_choice = input(\"Enter your choice: \")\n",
    "                    if student_choice == \"1\":\n",
    "                        user.view_grades()\n",
    "                    elif student_choice == \"2\":\n",
    "                        user.view_attendance()\n",
    "                    elif student_choice == \"3\":\n",
    "                        user.view_portfolio()\n",
    "                    elif student_choice == \"4\":\n",
    "                        break\n",
    "                    else:\n",
    "                        print(\"Invalid choice. Please try again.\")\n",
    "\n",
    "            else:\n",
    "                print(\"Invalid username or password.\")\n",
    "\n",
    "        elif choice == \"2\":\n",
    "            username = input(\"Enter username: \")\n",
    "            password = input(\"Enter password: \")\n",
    "            user = authenticate(username, password, users)\n",
    "            if isinstance(user, Teacher):\n",
    "                print(\"Welcome, Teacher!\")\n",
    "                while True:\n",
    "                    print(\"\\nTeacher Menu\")\n",
    "                    print(\"1. Add Student\")\n",
    "                    print(\"2. Add Grade\")\n",
    "                    print(\"3. Update Grade\")\n",
    "                    print(\"4. Delete Grade\")\n",
    "                    print(\"5. Mark Attendance\")\n",
    "                    print(\"6. Add Portfolio Entry\")\n",
    "                    print(\"7. List All Students\")\n",
    "                    print(\"8. Get Student Information\")\n",
    "                    print(\"9. Exit\")\n",
    "                    teacher_choice = input(\"Enter your choice: \")\n",
    "                    if teacher_choice == \"1\":\n",
    "                        name = input(\"Enter student name: \")\n",
    "                        student_id = input(\"Enter student ID: \")\n",
    "                        student_username = input(\"Enter student username: \")\n",
    "                        student_password = input(\"Enter student password: \")\n",
    "                        user.add_student(users, name, student_id, student_username, student_password)\n",
    "                    elif teacher_choice == \"2\":\n",
    "                        student_id = input(\"Enter student ID: \")\n",
    "                        subject = input(\"Enter subject: \")\n",
    "                        grade = float(input(\"Enter grade: \"))\n",
    "                        user.add_grade(users, student_id, subject, grade)\n",
    "                    elif teacher_choice == \"3\":\n",
    "                        student_id = input(\"Enter student ID: \")\n",
    "                        subject = input(\"Enter subject (English, Music, History, Science, Biology): \")\n",
    "                        new_grade = float(input(\"Enter new grade: \"))\n",
    "                        user.update_grade(users, student_id, subject, new_grade)\n",
    "                    elif teacher_choice == \"4\":\n",
    "                        student_id = input(\"Enter student ID: \")\n",
    "                        subject = input(\"Enter subject: \")\n",
    "                        user.delete_grade(users, student_id, subject)\n",
    "                    elif teacher_choice == \"5\":\n",
    "                        student_id = input(\"Enter student ID: \")\n",
    "                        date = input(\"Enter date (YYYY-MM-DD): \")\n",
    "                        status = input(\"Enter attendance status (Present/Absent): \")\n",
    "                        user.mark_attendance(users, student_id, date, status)\n",
    "                    elif teacher_choice == \"6\":\n",
    "                        student_id = input(\"Enter student ID: \")\n",
    "                        entry_type = input(\"Enter entry type (Essay, Project, Assignment): \")\n",
    "                        entry = input(\"Enter portfolio entry: \")\n",
    "                        user.add_portfolio_entry(users, student_id, entry_type, entry)\n",
    "                    elif teacher_choice == \"7\":\n",
    "                        user.list_all_students(users)\n",
    "                    elif teacher_choice == \"8\":\n",
    "                        student_id = input(\"Enter student ID: \")\n",
    "                        user.get_student_information(users, student_id)\n",
    "                    elif teacher_choice == \"9\":\n",
    "                        break\n",
    "                    else:\n",
    "                        print(\"Invalid choice. Please try again.\")\n",
    "\n",
    "            else:\n",
    "                print(\"Invalid username or password.\")\n",
    "\n",
    "        elif choice == \"3\":\n",
    "            print(\"Exiting...\")\n",
    "            break\n",
    "\n",
    "        else:\n",
    "            print(\"Invalid choice. Please try again.\")\n",
    "\n",
    "\n",
    "if __name__ == \"__main__\":\n",
    "    main()\n"
   ]
  },
  {
   "cell_type": "code",
   "execution_count": null,
   "id": "5d22830b-f693-418f-83d4-0ccbd51de2c4",
   "metadata": {},
   "outputs": [],
   "source": []
  }
 ],
 "metadata": {
  "kernelspec": {
   "display_name": "Python 3 (ipykernel)",
   "language": "python",
   "name": "python3"
  },
  "language_info": {
   "codemirror_mode": {
    "name": "ipython",
    "version": 3
   },
   "file_extension": ".py",
   "mimetype": "text/x-python",
   "name": "python",
   "nbconvert_exporter": "python",
   "pygments_lexer": "ipython3",
   "version": "3.9.18"
  }
 },
 "nbformat": 4,
 "nbformat_minor": 5
}
